{
 "cells": [
  {
   "cell_type": "code",
   "execution_count": null,
   "id": "58ef8d19-57ea-4fca-b817-32d3263cf3ed",
   "metadata": {},
   "outputs": [],
   "source": [
    "!python three_fin_flow.py"
   ]
  },
  {
   "cell_type": "code",
   "execution_count": null,
   "id": "a64fcc00-e157-4676-9514-8a9f625091a7",
   "metadata": {},
   "outputs": [
    {
     "name": "stdout",
     "output_type": "stream",
     "text": [
      "/usr/local/lib/python3.10/dist-packages/hydra/_internal/hydra.py:119: UserWarning: Future Hydra versions will no longer change working directory at job runtime by default.\n",
      "See https://hydra.cc/docs/1.2/upgrades/1.1_to_1.2/changes_to_job_working_dir/ for more information.\n",
      "  ret = run_job(\n",
      "[W305 09:22:52.295738115 init.cpp:779] Warning: nvfuser is no longer supported in torch script, use _jit_set_nvfuser_single_node_mode is deprecated and a no-op (function operator())\n",
      "[W305 09:22:52.295775146 init.cpp:767] Warning: nvfuser is no longer supported in torch script, use _jit_set_nvfuser_enabled is deprecated and a no-op (function operator())\n",
      "[09:22:52] - JIT using the NVFuser TorchScript backend\n",
      "[09:22:52] - JitManager: {'_enabled': True, '_arch_mode': <JitArchMode.ONLY_ACTIVATION: 1>, '_use_nvfuser': True, '_autograd_nodes': False}\n",
      "[09:22:52] - GraphManager: {'_func_arch': False, '_debug': False, '_func_arch_allow_partial_hessian': True}\n",
      "[09:22:52] - AmpManager: {'_enabled': False, '_mode': <AmpMode.PER_ORDER_SCALER: 0>, '_dtype': torch.float16, '_default_max_scale': 1, '_autocast_activation': False, '_autocast_firstlayer': False, '_special_terms': [], '_custom_max_scales': {}}\n",
      "[09:23:02] - Installed PyTorch version 2.5.0a0+872d972e41.nv24.08 is not TorchScript supported in Modulus. Version 2.1.0a0+4136153 is officially supported.\n",
      "/usr/local/lib/python3.10/dist-packages/modulus/sym/amp.py:221: FutureWarning: `torch.cuda.amp.GradScaler(args...)` is deprecated. Please use `torch.amp.GradScaler('cuda', args...)` instead.\n",
      "  super().__init__(*args, **kwargs)\n",
      "[09:23:02] - attempting to restore from: outputs/three_fin_thermal\n",
      "/usr/local/lib/python3.10/dist-packages/modulus/sym/trainer.py:1033: FutureWarning: You are using `torch.load` with `weights_only=False` (the current default value), which uses the default pickle module implicitly. It is possible to construct malicious pickle data which will execute arbitrary code during unpickling (See https://github.com/pytorch/pytorch/blob/main/SECURITY.md#untrusted-models for more details). In a future release, the default value for `weights_only` will be flipped to `True`. This limits the functions that could be executed during unpickling. Arbitrary objects will no longer be allowed to be loaded via this mode unless they are explicitly allowlisted by the user via `torch.serialization.add_safe_globals`. We recommend you start setting `weights_only=True` for any use case where you don't have full control of the loaded file. Please open an issue on GitHub for any issues related to this experimental feature.\n",
      "  checkpoint = torch.load(optimizer_checkpoint_file, map_location=device)\n",
      "[09:23:02] - \u001b[32mSuccess loading optimizer: \u001b[0moutputs/three_fin_thermal/optim_checkpoint.0.pth\n",
      "[09:23:02] - attempting to initialize network from ../three_fin_flow\n",
      "/usr/local/lib/python3.10/dist-packages/modulus/sym/models/arch.py:183: FutureWarning: You are using `torch.load` with `weights_only=False` (the current default value), which uses the default pickle module implicitly. It is possible to construct malicious pickle data which will execute arbitrary code during unpickling (See https://github.com/pytorch/pytorch/blob/main/SECURITY.md#untrusted-models for more details). In a future release, the default value for `weights_only` will be flipped to `True`. This limits the functions that could be executed during unpickling. Arbitrary objects will no longer be allowed to be loaded via this mode unless they are explicitly allowlisted by the user via `torch.serialization.add_safe_globals`. We recommend you start setting `weights_only=True` for any use case where you don't have full control of the loaded file. Please open an issue on GitHub for any issues related to this experimental feature.\n",
      "  torch.load(\n",
      "[09:23:02] - \u001b[32mSuccess loading model: \u001b[0m../three_fin_flow/flow_network.0.pth\n",
      "[09:23:02] - model thermal_f_network.0.pth not found for initialization\n",
      "[09:23:02] - model thermal_s_network.0.pth not found for initialization\n",
      "[09:23:02] - \u001b[32mSuccess loading model: \u001b[0moutputs/three_fin_thermal/flow_network.0.pth\n",
      "[09:23:02] - \u001b[32mSuccess loading model: \u001b[0moutputs/three_fin_thermal/thermal_f_network.0.pth\n",
      "[09:23:02] - \u001b[32mSuccess loading model: \u001b[0moutputs/three_fin_thermal/thermal_s_network.0.pth\n",
      "/usr/local/lib/python3.10/dist-packages/modulus/sym/eq/derivatives.py:120: FutureWarning: `torch.cuda.amp.autocast(args...)` is deprecated. Please use `torch.amp.autocast('cuda', args...)` instead.\n",
      "  with torch.cuda.amp.autocast(enabled=False):\n",
      "[09:23:07] - [step:          0] record constraint batch time:  5.503e-01s\n",
      "Default plotter can only handle <=2 input dimensions, passing\n",
      "[09:24:11] - [step:          0] record validators time:  6.446e+01s\n",
      "[09:24:11] - [step:          0] saved checkpoint to outputs/three_fin_thermal\n",
      "[09:24:11] - [step:          0] loss:  1.808e-01\n",
      "/usr/local/lib/python3.10/dist-packages/modulus/sym/eq/derivatives.py:120: FutureWarning: `torch.cuda.amp.autocast(args...)` is deprecated. Please use `torch.amp.autocast('cuda', args...)` instead.\n",
      "  with torch.cuda.amp.autocast(enabled=False):\n",
      "[09:24:12] - [step:          1] record constraint batch time:  1.478e-01s\n",
      "Default plotter can only handle <=2 input dimensions, passing\n",
      "[09:25:16] - [step:          1] record validators time:  6.385e+01s\n",
      "[09:25:17] - [step:          2] record constraint batch time:  1.485e-01s\n",
      "Default plotter can only handle <=2 input dimensions, passing\n",
      "[09:26:20] - [step:          2] record validators time:  6.293e+01s\n",
      "[09:26:20] - [step:          3] record constraint batch time:  1.450e-01s\n",
      "^C\n",
      "Traceback (most recent call last):\n",
      "  File \"/workspace/modulus-sym/examples/three_fin_3d/three_fin_thermal.py\", line 600, in <module>\n",
      "    run()\n",
      "  File \"/usr/local/lib/python3.10/dist-packages/modulus/sym/hydra/utils.py\", line 111, in func_decorated\n",
      "    _run_hydra(\n",
      "  File \"/usr/local/lib/python3.10/dist-packages/hydra/_internal/utils.py\", line 394, in _run_hydra\n",
      "    _run_app(\n",
      "  File \"/usr/local/lib/python3.10/dist-packages/hydra/_internal/utils.py\", line 457, in _run_app\n",
      "    run_and_report(\n",
      "  File \"/usr/local/lib/python3.10/dist-packages/hydra/_internal/utils.py\", line 220, in run_and_report\n",
      "    return func()\n",
      "  File \"/usr/local/lib/python3.10/dist-packages/hydra/_internal/utils.py\", line 458, in <lambda>\n",
      "    lambda: hydra.run(\n",
      "  File \"/usr/local/lib/python3.10/dist-packages/hydra/_internal/hydra.py\", line 119, in run\n",
      "    ret = run_job(\n",
      "  File \"/usr/local/lib/python3.10/dist-packages/hydra/core/utils.py\", line 186, in run_job\n",
      "    ret.return_value = task_function(task_cfg)\n",
      "  File \"/workspace/modulus-sym/examples/three_fin_3d/three_fin_thermal.py\", line 596, in run\n",
      "    thermal_slv.solve()\n",
      "  File \"/usr/local/lib/python3.10/dist-packages/modulus/sym/solver/solver.py\", line 182, in solve\n",
      "    self._train_loop(sigterm_handler)\n",
      "  File \"/usr/local/lib/python3.10/dist-packages/modulus/sym/trainer.py\", line 754, in _train_loop\n",
      "    self._record_validators(step)\n",
      "  File \"/usr/local/lib/python3.10/dist-packages/modulus/sym/trainer.py\", line 340, in _record_validators\n",
      "    self.validator_outvar = self.record_validators(step)\n",
      "  File \"/usr/local/lib/python3.10/dist-packages/modulus/sym/solver/solver.py\", line 139, in record_validators\n",
      "    return self.domain.rec_validators(\n",
      "  File \"/usr/local/lib/python3.10/dist-packages/modulus/sym/domain/domain.py\", line 74, in rec_validators\n",
      "    valid_losses = validator.save_results(\n",
      "  File \"/usr/local/lib/python3.10/dist-packages/modulus/sym/domain/validator/continuous.py\", line 121, in save_results\n",
      "    pred_outvar_cpu = {\n",
      "  File \"/usr/local/lib/python3.10/dist-packages/modulus/sym/domain/validator/continuous.py\", line 122, in <dictcomp>\n",
      "    key: value + [pred_outvar[key].cpu().detach()]\n",
      "KeyboardInterrupt\n"
     ]
    }
   ],
   "source": [
    "!python three_fin_thermal_ben.py"
   ]
  }
 ],
 "metadata": {
  "kernelspec": {
   "display_name": "Python 3 (ipykernel)",
   "language": "python",
   "name": "python3"
  },
  "language_info": {
   "codemirror_mode": {
    "name": "ipython",
    "version": 3
   },
   "file_extension": ".py",
   "mimetype": "text/x-python",
   "name": "python",
   "nbconvert_exporter": "python",
   "pygments_lexer": "ipython3",
   "version": "3.10.12"
  }
 },
 "nbformat": 4,
 "nbformat_minor": 5
}
